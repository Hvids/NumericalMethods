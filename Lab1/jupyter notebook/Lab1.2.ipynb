{
 "cells": [
  {
   "cell_type": "code",
   "execution_count": 8,
   "metadata": {},
   "outputs": [],
   "source": [
    "import numpy as np\n",
    "import pprint\n",
    "pp = pprint.PrettyPrinter()"
   ]
  },
  {
   "cell_type": "code",
   "execution_count": 9,
   "metadata": {},
   "outputs": [
    {
     "name": "stdout",
     "output_type": "stream",
     "text": [
      "[[-11, -9, 0, 0, 0],\n",
      " [5, -15, -2, 0, 0],\n",
      " [0, -8, 11, -3, 0],\n",
      " [0, 0, 6, -15, 4],\n",
      " [0, 0, 0, 3, 4]]\n"
     ]
    }
   ],
   "source": [
    "matrix_A = [\n",
    "    [-11, -9, 0,0, 0],\n",
    "    [5,-15,-2,0,0],\n",
    "    [0,-8,11,-3,0],\n",
    "    [0,0,6,-15,4],\n",
    "    [0,0,0,3,4]\n",
    "]\n",
    "vector_B = [-122,-48,-14,-50,42]\n",
    "pp.pprint(matrix_A)"
   ]
  },
  {
   "cell_type": "code",
   "execution_count": 3,
   "metadata": {},
   "outputs": [],
   "source": [
    "def solve_sweeps_method(A, B):\n",
    "    P = [ -A[0][1]/A[0][0], ]\n",
    "    Q = [ B[0]/A[0][0],]\n",
    "    #  fin coeff of sweeps\n",
    "    for i in range(1, len(A)):\n",
    "        if i == len(A) - 1:\n",
    "            p = 0\n",
    "        else :\n",
    "            p = ( -A[i][i+1] ) / (A[i][i] + A[i][i-1]*P[i-1])\n",
    "        q = (B[i] - A[i][i-1]*Q[i-1])/(A[i][i] + matrix_A[i][i-1]*P[i-1])\n",
    "        P.append(p)\n",
    "        Q.append(q)\n",
    "\n",
    "    #  find X\n",
    "    X = []\n",
    "    for i in range(len(Q)-1, -1,-1):\n",
    "        if i == len(Q) - 1:\n",
    "            x = Q[i]\n",
    "        else:\n",
    "            x = P[i]*X[0] + Q[i]\n",
    "        X.insert(0,x)\n",
    "    return X"
   ]
  },
  {
   "cell_type": "code",
   "execution_count": 4,
   "metadata": {
    "scrolled": true
   },
   "outputs": [
    {
     "name": "stdout",
     "output_type": "stream",
     "text": [
      "[7.010544815465729, 4.987111892208554, 4.123022847100176, 6.485452060144503, 5.6359109548916235]\n",
      "\n",
      "[7.01054482 4.98711189 4.12302285 6.48545206 5.63591095]\n"
     ]
    }
   ],
   "source": [
    "\n",
    "print(solve_sweeps_method(matrix_A, vector_B))\n",
    "print()\n",
    "print(np.linalg.solve(matrix_A,vector_B))"
   ]
  }
 ],
 "metadata": {
  "kernelspec": {
   "display_name": "Python 3",
   "language": "python",
   "name": "python3"
  },
  "language_info": {
   "codemirror_mode": {
    "name": "ipython",
    "version": 3
   },
   "file_extension": ".py",
   "mimetype": "text/x-python",
   "name": "python",
   "nbconvert_exporter": "python",
   "pygments_lexer": "ipython3",
   "version": "3.7.3"
  }
 },
 "nbformat": 4,
 "nbformat_minor": 2
}
