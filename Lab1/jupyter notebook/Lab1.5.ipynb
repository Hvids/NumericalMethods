{
 "cells": [
  {
   "cell_type": "code",
   "execution_count": 1,
   "metadata": {},
   "outputs": [],
   "source": [
    "import sys\n",
    "sys.path.append('..')"
   ]
  },
  {
   "cell_type": "code",
   "execution_count": 2,
   "metadata": {},
   "outputs": [],
   "source": [
    "from matrix import *\n",
    "from copy import deepcopy\n",
    "import numpy as np"
   ]
  },
  {
   "cell_type": "code",
   "execution_count": 3,
   "metadata": {},
   "outputs": [],
   "source": [
    "test_matrix = [\n",
    "    [1, 3, 1],\n",
    "    [1,1,4],\n",
    "    [4,3,1]\n",
    "]\n",
    "matrix = [\n",
    "    [5,8,-2],\n",
    "    [7,-2,-4],\n",
    "    [5,8,-1]\n",
    "]"
   ]
  },
  {
   "cell_type": "code",
   "execution_count": 4,
   "metadata": {},
   "outputs": [],
   "source": [
    "def sign(a):\n",
    "    if a == 0:\n",
    "        return 0\n",
    "    return a/abs(a)\n",
    "\n",
    "def calc_norm_row(matrix, row):\n",
    "    sum_row = 0\n",
    "    for i in range(row,len(matrix)):\n",
    "        sum_row += matrix[i][row]**2\n",
    "    sum_row = sum_row**0.5\n",
    "    return sum_row\n",
    "\n",
    "def calc_norm_row_d1(matrix, row):\n",
    "    sum_row = 0\n",
    "    for i in range(row+1,len(matrix)):\n",
    "        sum_row += matrix[i][row]**2\n",
    "    sum_row = sum_row**0.5\n",
    "    return sum_row\n",
    "\n",
    "def calc_norm_row_d2(matrix, row):\n",
    "    sum_row = 0\n",
    "    for i in range(row+2,len(matrix)):\n",
    "        sum_row += matrix[i][row]**2\n",
    "    sum_row = sum_row**0.5\n",
    "    return sum_row"
   ]
  },
  {
   "cell_type": "code",
   "execution_count": 5,
   "metadata": {},
   "outputs": [],
   "source": [
    "def calc_mult_val_matrix(val,matrix):\n",
    "    matrix = deepcopy(matrix)\n",
    "    for i in range(len(matrix)):\n",
    "        for j in range(len(matrix[i])):\n",
    "            matrix[i][j] *= val\n",
    "    return matrix"
   ]
  },
  {
   "cell_type": "code",
   "execution_count": 6,
   "metadata": {},
   "outputs": [],
   "source": [
    "def get_decomposition_qr(matrix):\n",
    "    n  = len(matrix)\n",
    "    Ak = deepcopy(matrix)\n",
    "    Q = get_matrix_eye(n)\n",
    "    E = get_matrix_eye(n)\n",
    "    for k in range(n-1):\n",
    "        V = []\n",
    "        for i in range(n):\n",
    "            vi = 0\n",
    "            if i == k:\n",
    "                a = Ak[i][k]\n",
    "                vi = a + sign(a)*calc_norm_row(Ak,k)\n",
    "            elif i > k:\n",
    "                vi = Ak[i][k]\n",
    "            V.append(vi)\n",
    "        V = transporate([V])\n",
    "        V_t = transporate(V)\n",
    "        val_V_tV = calc_mult_matrix(V_t,V)[0][0]\n",
    "        matrixVV_t = VV_t = calc_mult_matrix(V,V_t)\n",
    "\n",
    "        H =  calc_diff_matrix(E, calc_mult_val_matrix(2/val_V_tV, matrixVV_t))\n",
    "        Ak = calc_mult_matrix(H,Ak)\n",
    "        Q = calc_mult_matrix(Q,H)\n",
    "    return Q, Ak\n"
   ]
  },
  {
   "cell_type": "code",
   "execution_count": 7,
   "metadata": {},
   "outputs": [
    {
     "data": {
      "text/plain": [
       "array([[ 3.889, -3.75 ,  2.745],\n",
       "       [-1.378, -0.121, -1.924],\n",
       "       [ 3.355,  0.904, -0.767]])"
      ]
     },
     "execution_count": 7,
     "metadata": {},
     "output_type": "execute_result"
    }
   ],
   "source": [
    "Q, R = get_decomposition_qr(test_matrix)\n",
    "np.around(calc_mult_matrix(R,Q),3)"
   ]
  },
  {
   "cell_type": "code",
   "execution_count": 8,
   "metadata": {},
   "outputs": [],
   "source": [
    "def get_roots(A, i):\n",
    "    sz = len(A)\n",
    "    a11 = A[i][i]\n",
    "    a12 = A[i][i + 1] if i + 1 < sz else 0\n",
    "    a21 = A[i + 1][i] if i + 1 < sz else 0\n",
    "    a22 = A[i + 1][i + 1] if i + 1 < sz else 0\n",
    "    return np.roots((1, -a11 - a22, a11 * a22 - a12 * a21))\n",
    "\n",
    "def finish_iter_for_complex(A, eps, i):\n",
    "    Q, R = get_decomposition_qr(A)\n",
    "    A_next = calc_mult_matrix(R,Q)\n",
    "    lambda1 = get_roots(A, i)\n",
    "    lambda2 = get_roots(A_next, i)\n",
    "    return True if abs(lambda1[0] - lambda2[0]) <= eps and \\\n",
    "                abs(lambda1[1] - lambda2[1]) <= eps else False\n"
   ]
  },
  {
   "cell_type": "code",
   "execution_count": 9,
   "metadata": {},
   "outputs": [],
   "source": [
    "def get_eigenvalue(A,eps,i):\n",
    "    A_i = deepcopy(A)\n",
    "    res = 0\n",
    "    while True:\n",
    "        Q, R = get_decomposition_qr(A_i)\n",
    "        A_i = calc_mult_matrix(R,Q)\n",
    "        if calc_norm_row_d1(A_i,i) <= eps:\n",
    "         \n",
    "            res = (A_i[i][i], False, A_i)\n",
    "            break\n",
    "        elif calc_norm_row_d2(A_i,i) <= eps and finish_iter_for_complex(A_i,eps,i):\n",
    "         \n",
    "            res = (get_roots(A_i, i), True, A_i)\n",
    "            break\n",
    "    return res"
   ]
  },
  {
   "cell_type": "code",
   "execution_count": 10,
   "metadata": {},
   "outputs": [],
   "source": [
    "def QR_method(A, eps):\n",
    "    res = []\n",
    "    i = 0\n",
    "    A_i = deepcopy(A)\n",
    "    while i < len(A):\n",
    "        eigenval = get_eigenvalue(A_i, eps, i)\n",
    "        if eigenval[1]:\n",
    "            res.extend(eigenval[0])\n",
    "            i += 2\n",
    "        else:\n",
    "            res.append(eigenval[0])\n",
    "            i += 1\n",
    "        A_i = eigenval[2]\n",
    "    return res"
   ]
  },
  {
   "cell_type": "code",
   "execution_count": 11,
   "metadata": {},
   "outputs": [
    {
     "data": {
      "text/plain": [
       "[6.343150205845844,\n",
       " (-1.6713158724790946+1.5521480525359899j),\n",
       " (-1.6713158724790946-1.5521480525359899j)]"
      ]
     },
     "execution_count": 11,
     "metadata": {},
     "output_type": "execute_result"
    }
   ],
   "source": [
    "QR_method(test_matrix,0.01)\n"
   ]
  },
  {
   "cell_type": "code",
   "execution_count": 12,
   "metadata": {},
   "outputs": [
    {
     "data": {
      "text/plain": [
       "[-5.352621408890763, 4.773255624149787, 2.5832273116495994]"
      ]
     },
     "execution_count": 12,
     "metadata": {},
     "output_type": "execute_result"
    }
   ],
   "source": [
    "QR_method(matrix,0.01)"
   ]
  },
  {
   "cell_type": "code",
   "execution_count": 13,
   "metadata": {},
   "outputs": [
    {
     "data": {
      "text/plain": [
       "array([-5.35092951,  4.75931693,  2.59161258])"
      ]
     },
     "execution_count": 13,
     "metadata": {},
     "output_type": "execute_result"
    }
   ],
   "source": [
    "np.linalg.eigvals(matrix)"
   ]
  },
  {
   "cell_type": "code",
   "execution_count": null,
   "metadata": {},
   "outputs": [],
   "source": []
  },
  {
   "cell_type": "code",
   "execution_count": null,
   "metadata": {},
   "outputs": [],
   "source": []
  }
 ],
 "metadata": {
  "kernelspec": {
   "display_name": "Python 3",
   "language": "python",
   "name": "python3"
  },
  "language_info": {
   "codemirror_mode": {
    "name": "ipython",
    "version": 3
   },
   "file_extension": ".py",
   "mimetype": "text/x-python",
   "name": "python",
   "nbconvert_exporter": "python",
   "pygments_lexer": "ipython3",
   "version": "3.7.3"
  }
 },
 "nbformat": 4,
 "nbformat_minor": 2
}
