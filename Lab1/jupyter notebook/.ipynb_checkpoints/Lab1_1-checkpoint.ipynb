{
 "cells": [
  {
   "cell_type": "code",
   "execution_count": 1,
   "metadata": {},
   "outputs": [],
   "source": [
    "from copy import copy, deepcopy\n",
    "import numpy as np\n",
    "import numpy.linalg as lg"
   ]
  },
  {
   "cell_type": "code",
   "execution_count": 2,
   "metadata": {},
   "outputs": [],
   "source": [
    "matrix = [\n",
    "    [1,2,-2,6],\n",
    "    [-3,-5,14,13],\n",
    "    [1,2,-2,-2],\n",
    "    [-2,-4,5,10],\n",
    "]\n",
    "b = [24,41,0,20]"
   ]
  },
  {
   "cell_type": "code",
   "execution_count": 3,
   "metadata": {},
   "outputs": [],
   "source": [
    "def sum_y(L,Y,i):\n",
    "    s = 0\n",
    "    for j in range(0,i):\n",
    "        s += L[i][j]*Y[j]\n",
    "    return s\n",
    "\n",
    "def sum_x(U,X,i):\n",
    "    s = 0\n",
    "    for j in range(i+1,len(X)):\n",
    "        s += U[i][j]*X[j]\n",
    "    return s\n",
    "\n",
    "def LUP_solve_(L,U,p,b):\n",
    "    n = len(L)\n",
    "    X = [0]*n\n",
    "    Y = [0]*n\n",
    "    for i in range(n):\n",
    "        if i == 0:\n",
    "            y = b[p[i]]\n",
    "        else:\n",
    "            y = b[p[i]]  - sum_y(L,Y,i)\n",
    "        Y[i] = y\n",
    "    for i in range(n-1,-1,-1):\n",
    "        if i == n-1:\n",
    "            X[i] = Y[i]/U[i][i]\n",
    "        else:   \n",
    "            X[i] = (Y[i] - sum_x(U,X,i))/U[i][i]\n",
    "    return X"
   ]
  },
  {
   "cell_type": "code",
   "execution_count": 4,
   "metadata": {},
   "outputs": [],
   "source": [
    "def swap_array(a, i,j):\n",
    "    t = a[i]\n",
    "    a[i] = a[j]\n",
    "    a[j]= t"
   ]
  },
  {
   "cell_type": "code",
   "execution_count": 5,
   "metadata": {},
   "outputs": [],
   "source": [
    "\n",
    "def LUP_Decomposition(A):\n",
    "    A = copy(A)\n",
    "    n = len(A)\n",
    "    p = [i for i in range(n)]\n",
    "    k_ = 0\n",
    "    for k in range(n):\n",
    "        g = 0\n",
    "        for i in range(k,n):\n",
    "            if abs(A[i][k]) > g:\n",
    "                g = abs(A[i][k])\n",
    "                k_ = i\n",
    "        if g == 0:\n",
    "            print(\"Вырожденная матрица\")\n",
    "            return \n",
    "        swap_array(p,k,k_)\n",
    "        swap_array(A,k,k_)\n",
    "        for i in range(k+1, n):\n",
    "            A[i][k] = A[i][k]/A[k][k]\n",
    "            for j in range(k+1, n):\n",
    "                A[i][j] = A[i][j] - A[i][k]*A[k][j]\n",
    "    return copy(A),copy(p)\n"
   ]
  },
  {
   "cell_type": "code",
   "execution_count": 6,
   "metadata": {},
   "outputs": [],
   "source": [
    "def LUP_solve(A,p,b):\n",
    "    n = len(A)\n",
    "    X = [0]*n\n",
    "    Y = [0]*n\n",
    "    for i in range(n):\n",
    "        if i == 0:\n",
    "            y = b[p[i]]\n",
    "        else:\n",
    "            y = b[p[i]]  - sum_y(A,Y,i)\n",
    "        Y[i] = y\n",
    "    for i in range(n-1,-1,-1):\n",
    "        if i == n-1:\n",
    "            X[i] = Y[i]/A[i][i]\n",
    "        else:   \n",
    "            X[i] = (Y[i] - sum_x(A,X,i))/A[i][i]\n",
    "    return copy(X)"
   ]
  },
  {
   "cell_type": "code",
   "execution_count": 7,
   "metadata": {},
   "outputs": [],
   "source": [
    "def solve_LUP(matrix, vector):\n",
    "    matrix = deepcopy(matrix)\n",
    "    A = copy(matrix)\n",
    "    b = copy(vector)\n",
    "    A, p = LUP_Decomposition(A)\n",
    "    X = LUP_solve(A,p,b)\n",
    "    return copy(X)\n",
    "    "
   ]
  },
  {
   "cell_type": "code",
   "execution_count": 8,
   "metadata": {
    "scrolled": true
   },
   "outputs": [
    {
     "data": {
      "text/plain": [
       "[1.9999999999999953, 4.000000000000003, 2.0, 3.0]"
      ]
     },
     "execution_count": 8,
     "metadata": {},
     "output_type": "execute_result"
    }
   ],
   "source": [
    "solve_LUP(matrix,b)"
   ]
  },
  {
   "cell_type": "code",
   "execution_count": 17,
   "metadata": {},
   "outputs": [],
   "source": [
    "import sys\n",
    "sys.path.append(\"..\")\n",
    "from matrix import MatrixOperation\n"
   ]
  }
 ],
 "metadata": {
  "kernelspec": {
   "display_name": "Python 3",
   "language": "python",
   "name": "python3"
  },
  "language_info": {
   "codemirror_mode": {
    "name": "ipython",
    "version": 3
   },
   "file_extension": ".py",
   "mimetype": "text/x-python",
   "name": "python",
   "nbconvert_exporter": "python",
   "pygments_lexer": "ipython3",
   "version": "3.7.3"
  }
 },
 "nbformat": 4,
 "nbformat_minor": 2
}
