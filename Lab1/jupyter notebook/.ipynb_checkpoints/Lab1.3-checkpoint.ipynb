{
 "cells": [
  {
   "cell_type": "code",
   "execution_count": 1,
   "metadata": {},
   "outputs": [],
   "source": [
    "from copy import deepcopy\n",
    "import pprint\n",
    "pp = pprint.PrettyPrinter()"
   ]
  },
  {
   "cell_type": "code",
   "execution_count": 2,
   "metadata": {},
   "outputs": [],
   "source": [
    "A = [\n",
    "    [19,-4,-9,-1],\n",
    "    [-2,20,-2,-7],\n",
    "    [6,-5,-25,9],\n",
    "    [0,-3,-9,12]\n",
    "]\n",
    "b = [100,-5,34,69]"
   ]
  },
  {
   "cell_type": "code",
   "execution_count": 3,
   "metadata": {},
   "outputs": [],
   "source": [
    "def get_matrix_alpha(matrix):\n",
    "    alpha = []\n",
    "    for i in range(len(matrix)):\n",
    "        row = []\n",
    "        for j in range(len(matrix[i])):\n",
    "            if not i == j:\n",
    "                a = -matrix[i][j]/matrix[i][i]\n",
    "                row.append(a)    \n",
    "            else:\n",
    "                row.append(0)\n",
    "        alpha.append(row)\n",
    "    return alpha\n",
    "\n",
    "def get_vector_betta(matrix,b):\n",
    "    betta = []\n",
    "    for i in range(len(matrix)):\n",
    "        bt= b[i]/matrix[i][i]\n",
    "        betta.append(bt)\n",
    "    return betta"
   ]
  },
  {
   "cell_type": "code",
   "execution_count": 4,
   "metadata": {},
   "outputs": [],
   "source": [
    "def calculate_norm_matrix_(matrix):\n",
    "    n = len(matrix)\n",
    "    max_sum = 0\n",
    "    for i in range(n):\n",
    "        row_abs = map(abs, matrix[i])\n",
    "        sum_row = sum(row_abs)\n",
    "        max_sum = max(sum_row,max_sum)\n",
    "    return max_sum\n",
    "\n",
    "def calculate_norm_matrix__(matrix):\n",
    "    n = len(matrix)\n",
    "    norm = 0\n",
    "    for row in matrix:\n",
    "        for value in row:\n",
    "            norm += value**2\n",
    "    norm = norm**0.5\n",
    "    return norm\n",
    "\n",
    "def calculate_norm_matrix(matrix):\n",
    "    n = len(matrix)\n",
    "    norm = 0\n",
    "    for j in range(len(matrix[0])):\n",
    "        row_sum = 0\n",
    "        for i in range(len(matrix)): \n",
    "            row_sum += abs(matrix[i][j])\n",
    "        norm = max(row_sum,norm)\n",
    "    return norm\n",
    "\n",
    "def calculate_norm_vector(vector):\n",
    "    norm = 0\n",
    "    for value in vector:\n",
    "        norm += value**2\n",
    "    norm = norm**(0.5)\n",
    "    return norm \n"
   ]
  },
  {
   "cell_type": "code",
   "execution_count": 5,
   "metadata": {},
   "outputs": [],
   "source": [
    "def dot_matrix_vectro(matrix,vector):\n",
    "    result = [0]*len(matrix)\n",
    "    for i in range(len(matrix)):\n",
    "        for j in range(len(matrix[i])):\n",
    "            result[i] += matrix[i][j]*vector[j]\n",
    "    return result\n",
    "def sum_matrix(m1,m2):\n",
    "    result = []\n",
    "    for i in range(len(m1)):\n",
    "        row = []\n",
    "        for j in range(len(m1[i])):\n",
    "            row.append(m1[i][j]+ m2[i][j])\n",
    "        result.append(row)\n",
    "    return result\n",
    "\n",
    "def difference_matrix(m1,m2):\n",
    "    result = []\n",
    "    for i in range(len(m1)):\n",
    "        row = []\n",
    "        for j in range(len(m1[i])):\n",
    "            row.append(m1[i][j] - m2[i][j])\n",
    "        result.append(row)\n",
    "    return result\n",
    "        \n",
    "def sum_vector(rhs,lhs):\n",
    "    result = [0]*len(rhs)\n",
    "    for i in range(len(rhs)):\n",
    "        result[i] += rhs[i] + lhs [i]\n",
    "    return result\n",
    "\n",
    "def difference_vector(rhs,lhs):\n",
    "    result = [0]*len(rhs)\n",
    "    for i in range(len(rhs)):\n",
    "        result[i] += rhs[i] - lhs[i]\n",
    "    return result"
   ]
  },
  {
   "cell_type": "code",
   "execution_count": 6,
   "metadata": {},
   "outputs": [],
   "source": [
    "def solve_simple_iteraion(matrix,vector):\n",
    "    alpha = get_matrix_alpha(matrix)\n",
    "    betta = get_vector_betta(matrix, vector)\n",
    "    X = deepcopy(betta)\n",
    "    e = 10**(-5)\n",
    "    k = 0\n",
    "    norm_alpha = calculate_norm_matrix(alpha)\n",
    "    while True:\n",
    "        k+=1\n",
    "        X_k = sum_vector(dot_matrix_vectro(alpha,X),betta)\n",
    "        e_k = norm_alpha*(calculate_norm_vector(difference_vector(X_k,X)))/(1-norm_alpha)\n",
    "        if e_k < e:\n",
    "            break\n",
    "        else: \n",
    "            X = deepcopy(X_k)\n",
    "    return X, k"
   ]
  },
  {
   "cell_type": "code",
   "execution_count": 7,
   "metadata": {},
   "outputs": [],
   "source": [
    "X ,k = solve_simple_iteraion(A,b)"
   ]
  },
  {
   "cell_type": "code",
   "execution_count": 8,
   "metadata": {},
   "outputs": [],
   "source": [
    "def get_matrixB(matrix):\n",
    "    B = []\n",
    "    for i in range(len(matrix)):\n",
    "        row = [0]*len(matrix[i])\n",
    "        for j in range(len(matrix[i])):\n",
    "            if i > j:\n",
    "                row[j] = matrix[i][j]\n",
    "            else:\n",
    "                row[j] = 0\n",
    "        B.append(row)\n",
    "    return B\n",
    "\n",
    "def get_mareixC(alpha, B):\n",
    "    return difference_matrix(alpha,B)\n",
    "\n",
    "def get_matrixE(n):\n",
    "    result = []\n",
    "    for i in range(n):\n",
    "        row = [0]*n\n",
    "        row[i] = 1\n",
    "        result.append(row)\n",
    "    return result\n"
   ]
  },
  {
   "cell_type": "code",
   "execution_count": 9,
   "metadata": {},
   "outputs": [],
   "source": [
    "test_matrix  = [\n",
    "    [10,1,1],\n",
    "    [2,10,1],\n",
    "    [2,2,10]\n",
    "]\n",
    "test_b = [12,13,14]\n",
    "alpha = get_matrix_alpha(test_matrix)\n",
    "betta = get_vector_betta(test_matrix,test_b)"
   ]
  },
  {
   "cell_type": "code",
   "execution_count": 12,
   "metadata": {},
   "outputs": [],
   "source": [
    "import sys\n",
    "sys.path.append('..')\n"
   ]
  },
  {
   "cell_type": "code",
   "execution_count": 13,
   "metadata": {},
   "outputs": [],
   "source": [
    "from matrix import calc_inv_matrix,calc_mult_matrix"
   ]
  },
  {
   "cell_type": "code",
   "execution_count": 14,
   "metadata": {},
   "outputs": [],
   "source": [
    "def solve_mehtod_Zendelya(matrix,vector):\n",
    "    alpha = get_matrix_alpha(matrix)\n",
    "    betta = get_vector_betta(matrix,vector)\n",
    "    B = get_matrixB(alpha)\n",
    "    C = get_mareixC(alpha, B)\n",
    "    E = get_matrixE(len(B))\n",
    "    X = deepcopy(betta)\n",
    "    e = 10**(-5)\n",
    "    norm_C = calculate_norm_matrix(C)\n",
    "    norm_alpha = calculate_norm_matrix(alpha)\n",
    "    k = 0\n",
    "    while True:\n",
    "        k+=1\n",
    "        E_B = difference_matrix(E,B)\n",
    "        E_BC = calc_mult_matrix(calc_inv_matrix(E_B),C)\n",
    "        X_k=sum_vector( dot_matrix_vectro(E_BC,X),dot_matrix_vectro(calc_inv_matrix(E_B),betta))\n",
    "        e_k = norm_C*(calculate_norm_vector(difference_vector(X,X_k)))/(1-norm_alpha)\n",
    "        X = deepcopy(X_k)\n",
    "        if e_k<e:\n",
    "            break\n",
    "    return X,k"
   ]
  }
 ],
 "metadata": {
  "kernelspec": {
   "display_name": "Python 3",
   "language": "python",
   "name": "python3"
  },
  "language_info": {
   "codemirror_mode": {
    "name": "ipython",
    "version": 3
   },
   "file_extension": ".py",
   "mimetype": "text/x-python",
   "name": "python",
   "nbconvert_exporter": "python",
   "pygments_lexer": "ipython3",
   "version": "3.7.3"
  }
 },
 "nbformat": 4,
 "nbformat_minor": 2
}
