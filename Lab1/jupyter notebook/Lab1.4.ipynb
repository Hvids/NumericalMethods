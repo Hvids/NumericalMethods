{
 "cells": [
  {
   "cell_type": "code",
   "execution_count": 1,
   "metadata": {},
   "outputs": [],
   "source": [
    "import sys\n",
    "sys.path.append('..')"
   ]
  },
  {
   "cell_type": "code",
   "execution_count": 2,
   "metadata": {},
   "outputs": [],
   "source": [
    "from math import atan, sin, cos\n",
    "from matrix import *\n",
    "from copy import deepcopy\n",
    "import numpy as np"
   ]
  },
  {
   "cell_type": "code",
   "execution_count": 3,
   "metadata": {},
   "outputs": [],
   "source": [
    "import matplotlib.pyplot as plt\n",
    "%matplotlib inline"
   ]
  },
  {
   "cell_type": "code",
   "execution_count": 4,
   "metadata": {},
   "outputs": [],
   "source": [
    "test_matrix = [\n",
    "    [4,2,1],\n",
    "    [2,5,3],\n",
    "    [1,3,6],\n",
    "]"
   ]
  },
  {
   "cell_type": "code",
   "execution_count": 5,
   "metadata": {},
   "outputs": [],
   "source": [
    "def get_index_max_abs_elem(matrix):\n",
    "    l,m = 0,1\n",
    "    max_abs_elem = matrix[l][m]\n",
    "    for i in range(len(matrix)):\n",
    "        for j in range(i+1,len(matrix[i])):\n",
    "            if max_abs_elem < abs(matrix[i][j]):\n",
    "                max_abs_elem = abs(matrix[i][j])\n",
    "                l = i\n",
    "                m = j\n",
    "    return l,m\n",
    "def calc_t(matrix):\n",
    "    sum_t = 0\n",
    "    for i in range(len(matrix)):\n",
    "        for j in range(i+1,len(matrix[i])):\n",
    "            sum_t += matrix[i][j]**2\n",
    "    sum_t = sum_t**0.5\n",
    "    return sum_t\n",
    "\n",
    "\n"
   ]
  },
  {
   "cell_type": "code",
   "execution_count": 19,
   "metadata": {},
   "outputs": [],
   "source": [
    "def get_eigval_eigvec_method_jacobi(matrix,precision):\n",
    "    e = precision\n",
    "    A_k = deepcopy(matrix)\n",
    "    n = len(A_k)\n",
    "    U_result = []\n",
    "    k = -1\n",
    "    while True:\n",
    "        k+=1\n",
    "        l,m = get_index_max_abs_elem(A_k)\n",
    "        phi = 0.5*atan(2*A_k[l][m]/(A_k[l][l] - A_k[m][m]))\n",
    "        U = get_matrix_eye(n)\n",
    "        U[l][m] = -sin(phi)\n",
    "        U[m][l] = sin(phi)\n",
    "        U[l][l] = cos(phi)\n",
    "        U[m][m] = cos(phi)\n",
    "        U_t = transporate(U)\n",
    "        A_next  = calc_mult_matrix(calc_mult_matrix(U_t,A_k),U)\n",
    "        A_k = deepcopy(A_next)\n",
    "        e_k = calc_t(A_next)\n",
    "        if k == 0:\n",
    "            U_result = U\n",
    "        else:\n",
    "            U_result = calc_mult_matrix(U_result,U)\n",
    "        if e_k <= e:\n",
    "            break\n",
    "    eigval = [A_k[i][i] for i in range(n)]\n",
    "    eigvec = [[U_result[i][j] for i in range(len(U_result))] for j in range(len(U_result[0]))]\n",
    "    return eigval,eigvec, k "
   ]
  },
  {
   "cell_type": "code",
   "execution_count": 20,
   "metadata": {},
   "outputs": [],
   "source": [
    "eigval, eigvec, k = get_eigval_eigvec_method_jacobi(test_matrix,10**(-5))"
   ]
  },
  {
   "cell_type": "code",
   "execution_count": 24,
   "metadata": {},
   "outputs": [
    {
     "data": {
      "text/plain": [
       "[<matplotlib.lines.Line2D at 0x7f83dc2b8438>]"
      ]
     },
     "execution_count": 24,
     "metadata": {},
     "output_type": "execute_result"
    },
    {
     "data": {
      "image/png": "[encoded data removed]",
      "text/plain": [
       "<Figure size 432x288 with 1 Axes>"
      ]
     },
     "metadata": {
      "needs_background": "light"
     },
     "output_type": "display_data"
    }
   ],
   "source": [
    "precs = [10**(-i) for i in range(1,15)]\n",
    "ks = [get_eigval_eigvec_method_jacobi(test_matrix,precs[i])[2] for i in range(len(precs))]\n",
    "\n",
    "plt.plot(precs,ks)"
   ]
  }
 ],
 "metadata": {
  "kernelspec": {
   "display_name": "Python 3",
   "language": "python",
   "name": "python3"
  },
  "language_info": {
   "codemirror_mode": {
    "name": "ipython",
    "version": 3
   },
   "file_extension": ".py",
   "mimetype": "text/x-python",
   "name": "python",
   "nbconvert_exporter": "python",
   "pygments_lexer": "ipython3",
   "version": "3.7.3"
  }
 },
 "nbformat": 4,
 "nbformat_minor": 2
}
