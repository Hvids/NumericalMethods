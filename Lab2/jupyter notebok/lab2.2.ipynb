{
 "cells": [
  {
   "cell_type": "code",
   "execution_count": 1,
   "metadata": {},
   "outputs": [],
   "source": [
    "import sys\n",
    "sys.path.append('../../Lab1/')\n",
    "sys.path.append('..')"
   ]
  },
  {
   "cell_type": "code",
   "execution_count": 50,
   "metadata": {},
   "outputs": [],
   "source": [
    "import sympy\n",
    "import numpy as np\n",
    "import matplotlib.pyplot as plt\n",
    "from copy import deepcopy\n",
    "from matrix import calc_determinant\n",
    "from solver_system_equation import MethodNuthona, SimpleIteration, Jacobian"
   ]
  },
  {
   "cell_type": "code",
   "execution_count": 3,
   "metadata": {},
   "outputs": [],
   "source": [
    "x_vector = sympy.symbols('x:2')"
   ]
  },
  {
   "cell_type": "code",
   "execution_count": 15,
   "metadata": {},
   "outputs": [],
   "source": [
    "f_vector = [\n",
    "    x_vector[0] - sympy.cos(x_vector[1]) - 1,\n",
    "    x_vector[1] - sympy.log(x_vector[0] + 1) - 2 \n",
    "]"
   ]
  },
  {
   "cell_type": "code",
   "execution_count": 24,
   "metadata": {
    "scrolled": true
   },
   "outputs": [
    {
     "data": {
      "text/plain": [
       "<matplotlib.contour.QuadContourSet at 0x7f1850ddfe48>"
      ]
     },
     "execution_count": 24,
     "metadata": {},
     "output_type": "execute_result"
    },
    {
     "data": {
      "image/png": "[encoded data removed]",
      "text/plain": [
       "<Figure size 432x288 with 1 Axes>"
      ]
     },
     "metadata": {
      "needs_background": "light"
     },
     "output_type": "display_data"
    }
   ],
   "source": [
    "x = np.arange(0,1,0.01)\n",
    "y = np.arange(0,1,0.01)\n",
    "x, y = np.meshgrid(x,y)\n",
    "z1 = x - np.cos(y) - 1\n",
    "z2 = y - np.log(x+1) -2\n",
    "plt.contour(x,y,z1,levels =1,colors = 'red' )\n",
    "plt.contour(x,y,z2,levels =1, colors = 'blue')\n",
    "\n"
   ]
  },
  {
   "cell_type": "code",
   "execution_count": 46,
   "metadata": {},
   "outputs": [
    {
     "name": "stdout",
     "output_type": "stream",
     "text": [
      "root = [0.339492501992532, 2.29229081237028];\n",
      " k = 5\n",
      "F(root) = [-0.0, 0.0]\n"
     ]
    }
   ],
   "source": [
    "nuthon = MethodNuthona(f_vector,x_vector)\n",
    "xstart = [0.125,0.5]\n",
    "roots, k = nuthon.solve(xstart)\n",
    "x_r = dict(zip(x_vector,roots))\n",
    "print(f'root = {roots};\\n k = {k}')\n",
    "\n",
    "\n",
    "fx_r = (list(map(lambda f:round(f.subs(x_r),5),f_vector)))\n",
    "print(f'F(root) = {fx_r}')"
   ]
  },
  {
   "cell_type": "code",
   "execution_count": 83,
   "metadata": {},
   "outputs": [
    {
     "data": {
      "text/plain": [
       "0.06004173052362649"
      ]
     },
     "execution_count": 83,
     "metadata": {},
     "output_type": "execute_result"
    }
   ],
   "source": [
    "phi = [\n",
    "    sympy.cos(x_vector[1]) + 1,\n",
    "    sympy.log(x_vector[0] + 1) + 2 \n",
    "]\n",
    "\n",
    "# проверка сходимсоти\n",
    "\n",
    "J = Jacobian(phi,x_vector)\n",
    "jacob_phi = J.jacobian\n",
    "\n",
    "nol = np.zeros(len(x))\n",
    "x = np.arange(0,1,0.01)\n",
    "y = np.arange(0,1,0.01)\n",
    "phi_i = np.array([\n",
    "    [np.zeros(len(x)), -np.sin(y)],\n",
    "    [1/(x+1),np.zeros(len(x))]\n",
    "])\n",
    "phi_i.mean()"
   ]
  },
  {
   "cell_type": "code",
   "execution_count": 84,
   "metadata": {},
   "outputs": [
    {
     "name": "stdout",
     "output_type": "stream",
     "text": [
      "root = [0.339556262279901, 2.29228421480431];\n",
      " k = 33\n",
      "F(root) = [-0.0, 0.0]\n"
     ]
    }
   ],
   "source": [
    "phi = [\n",
    "    sympy.cos(x_vector[1]) + 1,\n",
    "    sympy.log(x_vector[0] + 1) + 2 \n",
    "]\n",
    "\n",
    "xstart = [0.25, 0.75]\n",
    "q = 0.5\n",
    "eps = 10**(-4)\n",
    "si = SimpleIteration(phi,x_vector)\n",
    "\n",
    "roots,k = si.solve(xstart=xstart, q=q, eps =eps) \n",
    "fx_r = (list(map(lambda f:round(f.subs(x_r),5),f_vector)))\n",
    "print(f'root = {roots};\\n k = {k}')\n",
    "\n",
    "\n",
    "print(f'F(root) = {fx_r}')"
   ]
  },
  {
   "cell_type": "code",
   "execution_count": null,
   "metadata": {},
   "outputs": [],
   "source": []
  }
 ],
 "metadata": {
  "kernelspec": {
   "display_name": "Python 3",
   "language": "python",
   "name": "python3"
  },
  "language_info": {
   "codemirror_mode": {
    "name": "ipython",
    "version": 3
   },
   "file_extension": ".py",
   "mimetype": "text/x-python",
   "name": "python",
   "nbconvert_exporter": "python",
   "pygments_lexer": "ipython3",
   "version": "3.7.3"
  }
 },
 "nbformat": 4,
 "nbformat_minor": 2
}
