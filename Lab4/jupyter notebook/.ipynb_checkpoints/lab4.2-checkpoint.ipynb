{
 "cells": [
  {
   "cell_type": "code",
   "execution_count": 1,
   "metadata": {},
   "outputs": [],
   "source": [
    "import sys\n",
    "sys.path.append('..')\n",
    "import sympy\n",
    "from runge_kutta_method import RungeKuttaMethod\n",
    "import math"
   ]
  },
  {
   "cell_type": "code",
   "execution_count": 2,
   "metadata": {},
   "outputs": [],
   "source": [
    "x, y, z, n = sympy.symbols('x,y,z,n')"
   ]
  },
  {
   "cell_type": "code",
   "execution_count": 46,
   "metadata": {},
   "outputs": [],
   "source": [
    "# y'' - xy' - y = 0\n",
    "ya  = 1"
   ]
  },
  {
   "cell_type": "code",
   "execution_count": 84,
   "metadata": {},
   "outputs": [],
   "source": [
    "def p(x):\n",
    "    return x\n",
    "def q(x):\n",
    "    return 1\n",
    "def f(x):\n",
    "    return 0\n",
    "N = 5 \n",
    "section = [0,1]\n",
    "h = 0.2\n",
    "x_vec = np.arange(section[0],section[1]+h/2,h)\n"
   ]
  },
  {
   "cell_type": "code",
   "execution_count": 86,
   "metadata": {},
   "outputs": [
    {
     "name": "stdout",
     "output_type": "stream",
     "text": [
      "1.08\n"
     ]
    }
   ],
   "source": [
    "matrix = []\n",
    "b = []\n",
    "for k in range(1, N):\n",
    "    row = [0]*N\n",
    "    xk = x_vec[k]\n",
    "    if k == 1:\n",
    "        row[1] = ( -2 + q(xk)*h**2 )\n",
    "        row[2] = ( 1 + p(xk) * h/2 )\n",
    "        b.append( h**2*f(xk)-(1-p(xk)*h*ya/2 ))\n",
    "    if 1 < k < N-1:\n",
    "        row[k-1] = (1 - p(xk)*h/2)\n",
    "        row[k]  = ( -2 + h**2*q(xk) )\n",
    "        row[k+1] = (1+p(xk)*h/2)\n",
    "        b.append(h**2*f(xk))\n",
    "    if k == N-1:\n",
    "        print((1+p(xk)*h/2))\n",
    "        row[k-1] = (1-p(xk)*h/2) - 5*(1+p(xk)*h/2)\n",
    "        row[k] = (-2+h**2*q(xk) )+ ((1+p(xk)*h/2)*(+7))\n",
    "        b.append(h**2*f(xk) - (1+p(xk)*h/2)*0)\n",
    "    matrix.append(row)"
   ]
  },
  {
   "cell_type": "code",
   "execution_count": 83,
   "metadata": {},
   "outputs": [
    {
     "data": {
      "text/plain": [
       "[[0, -1.96, 1.02, 0, 0],\n",
       " [0, 0.96, -1.96, 1.04, 0],\n",
       " [0, 0, 0.94, -1.96, 1.06],\n",
       " [0, 0, 0, -4.48, 5.6000000000000005]]"
      ]
     },
     "execution_count": 83,
     "metadata": {},
     "output_type": "execute_result"
    }
   ],
   "source": [
    "matrix       "
   ]
  },
  {
   "cell_type": "code",
   "execution_count": 77,
   "metadata": {},
   "outputs": [
    {
     "data": {
      "text/plain": [
       "[-0.98, 0.0, 0.0, 0.0]"
      ]
     },
     "execution_count": 77,
     "metadata": {},
     "output_type": "execute_result"
    }
   ],
   "source": [
    "b"
   ]
  },
  {
   "cell_type": "code",
   "execution_count": 90,
   "metadata": {},
   "outputs": [
    {
     "data": {
      "text/plain": [
       "(1.4, 1.0)"
      ]
     },
     "execution_count": 90,
     "metadata": {},
     "output_type": "execute_result"
    }
   ],
   "source": [
    "(1/0.2 + 2)/5, 5/5"
   ]
  },
  {
   "cell_type": "code",
   "execution_count": null,
   "metadata": {},
   "outputs": [],
   "source": []
  }
 ],
 "metadata": {
  "kernelspec": {
   "display_name": "Python 3",
   "language": "python",
   "name": "python3"
  },
  "language_info": {
   "codemirror_mode": {
    "name": "ipython",
    "version": 3
   },
   "file_extension": ".py",
   "mimetype": "text/x-python",
   "name": "python",
   "nbconvert_exporter": "python",
   "pygments_lexer": "ipython3",
   "version": "3.7.3"
  }
 },
 "nbformat": 4,
 "nbformat_minor": 2
}
