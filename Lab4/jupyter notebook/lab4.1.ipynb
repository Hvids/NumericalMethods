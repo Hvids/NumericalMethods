{
 "cells": [
  {
   "cell_type": "code",
   "execution_count": 1,
   "metadata": {},
   "outputs": [],
   "source": [
    "import sys\n",
    "sys.path.append('..')\n",
    "\n",
    "import sympy\n",
    "import numpy as np\n",
    "from copy import deepcopy\n",
    "import pandas as pd\n",
    "from eulera_methods import ExplicitEuleraMethod, Method, TableFucntion, EuleraCauchyMethod, ImprovedEuleraMethod"
   ]
  },
  {
   "cell_type": "code",
   "execution_count": 2,
   "metadata": {},
   "outputs": [
    {
     "data": {
      "text/plain": [
       "[0,\n",
       " 0.000334672085450544,\n",
       " 0.00171003550867249,\n",
       " 0.00429614960962326,\n",
       " 0.00844817247736076,\n",
       " 0.0147892618469029]"
      ]
     },
     "execution_count": 2,
     "metadata": {},
     "output_type": "execute_result"
    }
   ],
   "source": [
    "# явный метод эйлера\n",
    "x,y,z = sympy.symbols('x,y,z')\n",
    "step = 0.1\n",
    "section = [0,0.5]\n",
    "real_func = sympy.tan(x) - x\n",
    "\n",
    "f_for_sovle = {\n",
    "    y:(y+x)**2,\n",
    "#     z:2*x*z/(x**2+1)\n",
    "}\n",
    "start_data = {\n",
    "    x:0,\n",
    "    y:0,\n",
    "#     z:3\n",
    "}\n",
    "parametrs_enm = {\n",
    "    'step': step,\n",
    "    'section':section\n",
    "}\n",
    "parametrs_solve = {\n",
    "    'func_dict': f_for_sovle,\n",
    "    'sdata_dict':start_data,\n",
    "    'ans_vars':[x,y]\n",
    "}\n",
    "            \n",
    "enm = ExplicitEuleraMethod(**parametrs_enm)\n",
    "table_func = enm.solve(**parametrs_solve)\n",
    "enm.precision(real_func,table_func)"
   ]
  },
  {
   "cell_type": "code",
   "execution_count": 3,
   "metadata": {},
   "outputs": [
    {
     "data": {
      "text/plain": [
       "[0,\n",
       " 0.00535642688732940,\n",
       " 0.0130759447244928,\n",
       " 0.0240556795467111,\n",
       " 0.0396625475073200,\n",
       " 0.0619778849558861]"
      ]
     },
     "execution_count": 3,
     "metadata": {},
     "output_type": "execute_result"
    }
   ],
   "source": [
    "x,y,z = sympy.symbols('x,y,z')\n",
    "step = 0.1\n",
    "section = [0,0.5]\n",
    "real_func = 1/sympy.cos(x) + sympy.sin(x) + x/sympy.cos(x)\n",
    "\n",
    "f_for_sovle = {\n",
    "    y: z,\n",
    "    z:(1+2*sympy.tan(x)**2)*y\n",
    "}\n",
    "start_data = {\n",
    "    x:0,\n",
    "    y:1,\n",
    "    z:2\n",
    "}\n",
    "parametrs_enm = {\n",
    "    'step': step,\n",
    "    'section':section\n",
    "}\n",
    "parametrs_solve = {\n",
    "    'func_dict': f_for_sovle,\n",
    "    'sdata_dict':start_data,\n",
    "    'ans_vars':[x,y]\n",
    "}\n",
    "enm = ExplicitEuleraMethod(**parametrs_enm)\n",
    "table_func = enm.solve(**parametrs_solve)\n",
    "enm.precision(real_func,table_func)"
   ]
  },
  {
   "cell_type": "code",
   "execution_count": 4,
   "metadata": {},
   "outputs": [
    {
     "data": {
      "text/plain": [
       "[0,\n",
       " 0.000165327914549457,\n",
       " 0.000325291500102539,\n",
       " 0.000477536047976821,\n",
       " 0.000615127522588289,\n",
       " 0.000721810707980955]"
      ]
     },
     "execution_count": 4,
     "metadata": {},
     "output_type": "execute_result"
    }
   ],
   "source": [
    "# явный метод эйлера\n",
    "x,y,z = sympy.symbols('x,y,z')\n",
    "step = 0.1\n",
    "section = [0,0.5]\n",
    "real_func = sympy.tan(x) - x\n",
    "\n",
    "f_for_sovle = {\n",
    "    y:(y+x)**2,\n",
    "#     z:2*x*z/(x**2+1)\n",
    "}\n",
    "start_data = {\n",
    "    x:0,\n",
    "    y:0,\n",
    "#     z:3\n",
    "}\n",
    "parametrs_enm = {\n",
    "    'step': step,\n",
    "    'section':section\n",
    "}\n",
    "parametrs_solve = {\n",
    "    'func_dict': f_for_sovle,\n",
    "    'sdata_dict':start_data,\n",
    "    'ans_vars':[x,y]\n",
    "}\n",
    "            \n",
    "enm = EuleraCauchyMethod(**parametrs_enm)\n",
    "table_func = enm.solve(**parametrs_solve)\n",
    "enm.precision(real_func,table_func)"
   ]
  },
  {
   "cell_type": "code",
   "execution_count": 5,
   "metadata": {},
   "outputs": [
    {
     "data": {
      "text/plain": [
       "[0,\n",
       " 8.46720854505436e-5,\n",
       " 0.000187403788827178,\n",
       " 0.000332856161811590,\n",
       " 0.000556414825203140,\n",
       " 0.000915057465946806]"
      ]
     },
     "execution_count": 5,
     "metadata": {},
     "output_type": "execute_result"
    }
   ],
   "source": [
    "\n",
    "enm = ImprovedEuleraMethod(**parametrs_enm)\n",
    "table_func = enm.solve(**parametrs_solve)\n",
    "table_func.table\n",
    "enm.precision(real_func,table_func)   "
   ]
  },
  {
   "cell_type": "code",
   "execution_count": null,
   "metadata": {},
   "outputs": [],
   "source": []
  }
 ],
 "metadata": {
  "kernelspec": {
   "display_name": "Python 3",
   "language": "python",
   "name": "python3"
  },
  "language_info": {
   "codemirror_mode": {
    "name": "ipython",
    "version": 3
   },
   "file_extension": ".py",
   "mimetype": "text/x-python",
   "name": "python",
   "nbconvert_exporter": "python",
   "pygments_lexer": "ipython3",
   "version": "3.7.3"
  }
 },
 "nbformat": 4,
 "nbformat_minor": 2
}
