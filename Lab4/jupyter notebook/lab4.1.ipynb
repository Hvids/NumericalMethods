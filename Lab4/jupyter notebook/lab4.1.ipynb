{
 "cells": [
  {
   "cell_type": "code",
   "execution_count": 1,
   "metadata": {},
   "outputs": [
    {
     "ename": "IndentationError",
     "evalue": "unexpected indent (eulera_methods.py, line 137)",
     "output_type": "error",
     "traceback": [
      "Traceback \u001b[0;36m(most recent call last)\u001b[0m:\n",
      "  File \u001b[1;32m\"/home/hvidsmen/anaconda3/lib/python3.7/site-packages/IPython/core/interactiveshell.py\"\u001b[0m, line \u001b[1;32m3296\u001b[0m, in \u001b[1;35mrun_code\u001b[0m\n    exec(code_obj, self.user_global_ns, self.user_ns)\n",
      "\u001b[0;36m  File \u001b[0;32m\"<ipython-input-1-de27bd9f8cd9>\"\u001b[0;36m, line \u001b[0;32m8\u001b[0;36m, in \u001b[0;35m<module>\u001b[0;36m\u001b[0m\n\u001b[0;31m    from eulera_methods import ExplicitEuleraMethod, Method, TableFucntion, EuleraCauchyMethod, ImprovedEuleraMethod\u001b[0m\n",
      "\u001b[0;36m  File \u001b[0;32m\"../eulera_methods.py\"\u001b[0;36m, line \u001b[0;32m137\u001b[0m\n\u001b[0;31m    def solve(self, func_dict,sdata_dict, ans_vars):\u001b[0m\n\u001b[0m    ^\u001b[0m\n\u001b[0;31mIndentationError\u001b[0m\u001b[0;31m:\u001b[0m unexpected indent\n"
     ]
    }
   ],
   "source": [
    "import sys\n",
    "sys.path.append('..')\n",
    "\n",
    "import sympy\n",
    "import numpy as np\n",
    "from copy import deepcopy\n",
    "import pandas as pd\n",
    "from eulera_methods import ExplicitEuleraMethod, Method, TableFucntion, EuleraCauchyMethod, ImprovedEuleraMethod\n",
    "from runge_kutta_method import RungeKuttaMethod\n",
    "from adams_method import AdamsBashfortsMoultonMethod, AdamsMethod"
   ]
  },
  {
   "cell_type": "code",
   "execution_count": null,
   "metadata": {},
   "outputs": [],
   "source": [
    "x,y,z = sympy.symbols('x,y,z')\n",
    "step = 0.1\n",
    "func = {\n",
    "    y: z,\n",
    "    z:-4*x*z-(4*x**2+2)*y\n",
    "}\n",
    "# real_func = 1/sympy.cos(x) + sympy.sin(x) + x/sympy.cos(x)\n",
    "real_func = (1+x)*sympy.exp(-x**2)\n",
    "sdata = {\n",
    "    x:0,\n",
    "    y:1,\n",
    "    z:1\n",
    "}\n",
    "section = [0,1]         \n",
    "parametrs_class_obj = {\n",
    "    'step':step,\n",
    "    'section': section\n",
    "}\n",
    "parametrs_for_solve = {\n",
    "    'func_dict':func,\n",
    "    'sdata_dict':sdata,\n",
    "    'ans_vars':(x,y)\n",
    "}\n",
    "steps = [0.1,0.05]\n",
    "methods = [EuleraCauchyMethod, RungeKuttaMethod, AdamsBashfortsMoultonMethod]\n",
    "# methods = [RungeKuttaMethod]"
   ]
  },
  {
   "cell_type": "code",
   "execution_count": null,
   "metadata": {},
   "outputs": [],
   "source": [
    "for Method in methods:\n",
    "    table_fucntions = []\n",
    "    print(Method.name)\n",
    "    for step in steps:\n",
    "        parametrs_class_obj['step'] = step\n",
    "        method  = Method(**parametrs_class_obj)\n",
    "        table_function = method.solve(**parametrs_for_solve)\n",
    "        table_fucntions.append(table_function)\n",
    "        print(f'step  = {step}')\n",
    "        print(table_function.table)\n",
    "        print(f'eps =  \\n{Method.precision(real_func,table_function)} ')\n",
    "    \n",
    "    print(f'eps Runberga = \\n {Method.precision_runberg(real_func, table_fucntions[0],table_fucntions[1],0.5,2)} ' )\n"
   ]
  },
  {
   "cell_type": "code",
   "execution_count": null,
   "metadata": {},
   "outputs": [],
   "source": []
  }
 ],
 "metadata": {
  "kernelspec": {
   "display_name": "Python 3",
   "language": "python",
   "name": "python3"
  },
  "language_info": {
   "codemirror_mode": {
    "name": "ipython",
    "version": 3
   },
   "file_extension": ".py",
   "mimetype": "text/x-python",
   "name": "python",
   "nbconvert_exporter": "python",
   "pygments_lexer": "ipython3",
   "version": "3.7.3"
  }
 },
 "nbformat": 4,
 "nbformat_minor": 2
}
