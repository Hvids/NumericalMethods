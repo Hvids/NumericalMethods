{
 "cells": [
  {
   "cell_type": "code",
   "execution_count": 40,
   "metadata": {},
   "outputs": [],
   "source": [
    "import sys\n",
    "sys.path.append('../../Lab1/')\n",
    "sys.path.append('..')"
   ]
  },
  {
   "cell_type": "code",
   "execution_count": 41,
   "metadata": {},
   "outputs": [],
   "source": [
    "import sympy\n",
    "import numpy as np\n",
    "from sympy import pi\n",
    "from methodLUP import solve_LUP\n",
    "from cubic_splatsn import CubicSplatsn"
   ]
  },
  {
   "cell_type": "code",
   "execution_count": 42,
   "metadata": {
    "scrolled": true
   },
   "outputs": [
    {
     "name": "stdout",
     "output_type": "stream",
     "text": [
      "f0 = \n",
      "                                               3                   \n",
      "4.67291383866667⋅x - 4.05805524166667⋅(x - 0.1)  - 2.76989138386667\n",
      "f1 = \n",
      "                                    3                       2             \n",
      "2.72504732⋅x + 4.326838725⋅(x - 0.5)  - 4.86966629⋅(x - 0.5)  - 2.05567366\n",
      "f2 = \n",
      "                                                 3                       2    \n",
      "0.906196874666667⋅x - 0.724455916666667⋅(x - 0.9)  + 0.32254018⋅(x - 0.9)  - 0\n",
      "\n",
      "           \n",
      ".9209371872\n",
      "f3 = \n",
      "                                                 3                       2    \n",
      "0.816490178666667⋅x + 0.455672433333333⋅(x - 1.3)  - 0.54680692⋅(x - 1.3)  - 0\n",
      "\n",
      "                \n",
      ".799077232266667\n"
     ]
    }
   ],
   "source": [
    "# var 5\n",
    "x_vec = [0.1,0.5,0.9,1.3,1.7]\n",
    "f_vec = [-2.3026,-0.69315,-0.10536,0.26236,0.53063]\n",
    "x_ = 0.8\n",
    "cup_sp = CubicSplatsn(f_vec,x_vec)\n",
    "for i,sp in enumerate(cup_sp.cubic_splatsn):\n",
    "    print(f'f{i} = ')\n",
    "    sympy.pprint(sp)\n",
    "\n"
   ]
  },
  {
   "cell_type": "code",
   "execution_count": 43,
   "metadata": {},
   "outputs": [
    {
     "name": "stdout",
     "output_type": "stream",
     "text": [
      "\n",
      "f(0.8) = -0.197081124525000\n"
     ]
    }
   ],
   "source": [
    "f_x_ = cup_sp.calc_point(x_)\n",
    "print(f'\\nf({x_}) = {f_x_}')"
   ]
  },
  {
   "cell_type": "code",
   "execution_count": 44,
   "metadata": {},
   "outputs": [],
   "source": [
    "h = 0.05\n",
    "x_res = np.around(np.arange(x_vec[0],x_vec[-1]+h/2,h),5)\n",
    "f_res = [cup_sp.calc_point(xi) for xi in x_res] "
   ]
  },
  {
   "cell_type": "code",
   "execution_count": 45,
   "metadata": {},
   "outputs": [
    {
     "data": {
      "image/png": "[encoded data removed]",
      "text/plain": [
       "<Figure size 864x432 with 1 Axes>"
      ]
     },
     "metadata": {
      "needs_background": "light"
     },
     "output_type": "display_data"
    }
   ],
   "source": [
    "import matplotlib.pyplot as plt\n",
    "fig, ax = plt.subplots(nrows=1,ncols=1,figsize=(12,6))\n",
    "plt.scatter(x_vec,f_vec,color='red')\n",
    "plt.plot(x_res,f_res)\n",
    "plt.title('Cubic Splatsn')\n",
    "plt.xlabel('x')\n",
    "plt.ylabel('y')\n",
    "plt.show()"
   ]
  },
  {
   "cell_type": "code",
   "execution_count": null,
   "metadata": {},
   "outputs": [],
   "source": []
  }
 ],
 "metadata": {
  "kernelspec": {
   "display_name": "Python 3",
   "language": "python",
   "name": "python3"
  },
  "language_info": {
   "codemirror_mode": {
    "name": "ipython",
    "version": 3
   },
   "file_extension": ".py",
   "mimetype": "text/x-python",
   "name": "python",
   "nbconvert_exporter": "python",
   "pygments_lexer": "ipython3",
   "version": "3.7.3"
  }
 },
 "nbformat": 4,
 "nbformat_minor": 2
}
