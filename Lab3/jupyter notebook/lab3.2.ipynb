{
 "cells": [
  {
   "cell_type": "code",
   "execution_count": 2,
   "metadata": {},
   "outputs": [],
   "source": [
    "import sys\n",
    "sys.path.append('../../Lab1/')\n",
    "sys.path.append('..')"
   ]
  },
  {
   "cell_type": "code",
   "execution_count": 3,
   "metadata": {},
   "outputs": [],
   "source": [
    "import sympy\n",
    "import numpy as np\n",
    "from sympy import pi\n",
    "from methodLUP import solve_LUP\n",
    "from cubic_splatsn import CubicSplatsn"
   ]
  },
  {
   "cell_type": "code",
   "execution_count": 8,
   "metadata": {},
   "outputs": [
    {
     "name": "stdout",
     "output_type": "stream",
     "text": [
      "f0 = \n",
      "                                               3                   \n",
      "-1.69294999944444⋅x + 0.262352537037037⋅(x - 1)  + 4.10714999944445\n",
      "f1 = \n",
      "                                                 3                       2    \n",
      "-1.05543333255556⋅x - 0.269060355555556⋅(x - 1.9)  + 0.70835185⋅(x - 1.9)  + 3\n",
      "\n",
      "               \n",
      ".08712333185556\n",
      "f2 = \n",
      "                                                   3                       2  \n",
      "-0.419166664666667⋅x + 0.0196090518518518⋅(x - 2.8)  - 0.01811111⋅(x - 2.8)  +\n",
      "\n",
      "                 \n",
      " 1.68319666106667\n",
      "\n",
      "f(0.8) = 2.75069117959259\n"
     ]
    }
   ],
   "source": [
    "# var 5\n",
    "x_vec = [1,1.9,2.8,3.7,4.6]\n",
    "f_vec = [2.4142,1.0818,0.50953,0.11836,-0.24008]\n",
    "x_ = 0.8\n",
    "cup_sp = CubicSplatsn(f_vec,x_vec)\n",
    "for i,sp in enumerate(cup_sp.cubic_splatsn):\n",
    "    print(f'f{i} = ')\n",
    "    sympy.pprint(sp)\n",
    "\n",
    "f_x_ = cup_sp.calc_point(x_)\n",
    "print(f'\\nf({x_}) = {f_x_}')\n"
   ]
  },
  {
   "cell_type": "code",
   "execution_count": null,
   "metadata": {},
   "outputs": [],
   "source": []
  }
 ],
 "metadata": {
  "kernelspec": {
   "display_name": "Python 3",
   "language": "python",
   "name": "python3"
  },
  "language_info": {
   "codemirror_mode": {
    "name": "ipython",
    "version": 3
   },
   "file_extension": ".py",
   "mimetype": "text/x-python",
   "name": "python",
   "nbconvert_exporter": "python",
   "pygments_lexer": "ipython3",
   "version": "3.7.3"
  }
 },
 "nbformat": 4,
 "nbformat_minor": 2
}
