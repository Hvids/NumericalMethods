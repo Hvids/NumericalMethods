{
 "cells": [
  {
   "cell_type": "code",
   "execution_count": 1,
   "metadata": {},
   "outputs": [],
   "source": [
    "import sys\n",
    "sys.path.append('..')"
   ]
  },
  {
   "cell_type": "code",
   "execution_count": 2,
   "metadata": {},
   "outputs": [],
   "source": [
    "import sympy\n",
    "import numpy as np\n",
    "from sympy import pi\n",
    "from copy import deepcopy\n",
    "from polynom_lagrange import build_lagrange_polynom\n",
    "from polynom_nuthon import build_nuthon_polynom"
   ]
  },
  {
   "cell_type": "code",
   "execution_count": 8,
   "metadata": {},
   "outputs": [],
   "source": [
    "x = sympy.symbols('x')\n"
   ]
  },
  {
   "cell_type": "code",
   "execution_count": 5,
   "metadata": {},
   "outputs": [
    {
     "name": "stdout",
     "output_type": "stream",
     "text": [
      "Функция\n",
      "log(x)\n",
      "Полином Лагранжа\n",
      "0.336472236621213⋅(x - 1.4)⋅(x - 1)⋅(x - 0.6)⋅(x - 0.2)   0.510825623765991⋅(x\n",
      "─────────────────────────────────────────────────────── - ────────────────────\n",
      "                    0.384⋅x - 0.5376                                          \n",
      "\n",
      " - 1.4)⋅(x - 1)⋅(x - 0.6)⋅(x - 0.2)   1.6094379124341⋅(x - 1.4)⋅(x - 1)⋅(x - 0\n",
      "─────────────────────────────────── - ────────────────────────────────────────\n",
      "0.128⋅x - 0.0768                                        -0.384⋅x + 0.0768     \n",
      "\n",
      ".6)⋅(x - 0.2)\n",
      "─────────────\n",
      "             \n",
      "Значение при X* = 0.8\n",
      "В полиноме\n",
      "-0.207779058630064\n",
      "В функии\n",
      "-0.223143551314210\n"
     ]
    }
   ],
   "source": [
    "f = sympy.log(x)\n",
    "vec_x = [0.2,0.6,1,1.4] \n",
    "x_ = 0.8\n",
    "\n",
    "\n",
    "L = build_lagrange_polynom(f,x,vec_x)\n",
    "print('Функция')\n",
    "sympy.pprint(f)\n",
    "print(f'Полином Лагранжа')\n",
    "sympy.pprint(L)\n",
    "print(f'Значение при X* = {x_}')\n",
    "print('В полиноме')\n",
    "print(f'{L.subs(x,x_).evalf()}')\n",
    "print('В функии')\n",
    "print(f'{f.subs(x,x_).evalf()}')\n",
    "\n"
   ]
  },
  {
   "cell_type": "code",
   "execution_count": 20,
   "metadata": {
    "scrolled": true
   },
   "outputs": [
    {
     "name": "stdout",
     "output_type": "stream",
     "text": [
      "Функция\n",
      "log(x)\n",
      "Полином Ньютона\n",
      "2.74653072167027⋅x + 1.07664916082641⋅(x - 1)⋅(x - 0.6)⋅(x - 0.2) - 1.83683332\n",
      "781912⋅(x - 0.6)⋅(x - 0.2) - 2.15874405676816\n",
      "Значение при X* = 0.8\n",
      "В полиноме\n",
      "-0.207779058630064\n",
      "В функии\n",
      "-0.223143551314210\n"
     ]
    }
   ],
   "source": [
    "f = sympy.log(x)\n",
    "vec_x = [0.2,0.6,1,1.4]\n",
    "x_ = 0.8\n",
    "P = build_nuthon_polynom(f,x,vec_x)\n",
    "print('Функция')\n",
    "sympy.pprint(f)\n",
    "print(f'Полином Ньютона')\n",
    "sympy.pprint(P)\n",
    "print(f'Значение при X* = {x_}')\n",
    "print('В полиноме')\n",
    "print(f'{P.subs(x,x_).evalf()}')\n",
    "print('В функии')\n",
    "print(f'{f.subs(x,x_).evalf()}')\n",
    "\n"
   ]
  }
 ],
 "metadata": {
  "kernelspec": {
   "display_name": "Python 3",
   "language": "python",
   "name": "python3"
  },
  "language_info": {
   "codemirror_mode": {
    "name": "ipython",
    "version": 3
   },
   "file_extension": ".py",
   "mimetype": "text/x-python",
   "name": "python",
   "nbconvert_exporter": "python",
   "pygments_lexer": "ipython3",
   "version": "3.7.3"
  }
 },
 "nbformat": 4,
 "nbformat_minor": 2
}
