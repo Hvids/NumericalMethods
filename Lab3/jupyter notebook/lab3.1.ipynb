{
 "cells": [
  {
   "cell_type": "code",
   "execution_count": 1,
   "metadata": {},
   "outputs": [],
   "source": [
    "import sys\n",
    "sys.path.append('..')"
   ]
  },
  {
   "cell_type": "code",
   "execution_count": 3,
   "metadata": {},
   "outputs": [],
   "source": [
    "import sympy\n",
    "import numpy as np\n",
    "from sympy import pi\n",
    "from copy import deepcopy\n",
    "from polynom_lagrange import build_lagrange_polynom\n",
    "from polynom_nuthon import build_nuthon_polynom"
   ]
  },
  {
   "cell_type": "code",
   "execution_count": 4,
   "metadata": {},
   "outputs": [],
   "source": [
    "x = sympy.symbols('x')\n"
   ]
  },
  {
   "cell_type": "code",
   "execution_count": 18,
   "metadata": {},
   "outputs": [
    {
     "name": "stdout",
     "output_type": "stream",
     "text": [
      "Функция\n",
      "log(x)\n",
      "Полином Лагранжа\n",
      "0.262364264467491⋅(x - 1.3)⋅(x - 0.9)⋅(x - 0.5)⋅(x - 0.1)   0.693147180559945⋅\n",
      "───────────────────────────────────────────────────────── - ──────────────────\n",
      "                     0.384⋅x - 0.4992                                         \n",
      "\n",
      "(x - 1.3)⋅(x - 0.9)⋅(x - 0.5)⋅(x - 0.1)   0.105360515657826⋅(x - 1.3)⋅(x - 0.9\n",
      "─────────────────────────────────────── - ────────────────────────────────────\n",
      "   0.128⋅x - 0.064                                            -0.128⋅x + 0.115\n",
      "\n",
      ")⋅(x - 0.5)⋅(x - 0.1)   2.30258509299405⋅(x - 1.3)⋅(x - 0.9)⋅(x - 0.5)⋅(x - 0.\n",
      "───────────────────── - ──────────────────────────────────────────────────────\n",
      "2                                          -0.384⋅x + 0.0384                  \n",
      "\n",
      "1)\n",
      "──\n",
      "  \n",
      "Значение при X* = 0.8\n",
      "В полиноме\n",
      "-0.200364295702907\n",
      "В функии\n",
      "-0.223143551314210\n"
     ]
    }
   ],
   "source": [
    "f = sympy.log(x)\n",
    "vec_x = [0.1,0.5,0.9,1.3] \n",
    "x_ = 0.8\n",
    "\n",
    "\n",
    "L = build_lagrange_polynom(f,x,vec_x)\n",
    "print('Функция')\n",
    "sympy.pprint(f)\n",
    "print(f'Полином Лагранжа')\n",
    "sympy.pprint(L)\n",
    "print(f'Значение при X* = {x_}')\n",
    "print('В полиноме')\n",
    "print(f'{L.subs(x,x_).evalf()}')\n",
    "print('В функии')\n",
    "print(f'{f.subs(x,x_).evalf()}')\n",
    "\n"
   ]
  },
  {
   "cell_type": "code",
   "execution_count": 17,
   "metadata": {},
   "outputs": [
    {
     "name": "stdout",
     "output_type": "stream",
     "text": [
      "Функция\n",
      "   ⎛π⋅x⎞\n",
      "sin⎜───⎟\n",
      "   ⎝ 6 ⎠\n",
      "Полином Ньютона\n",
      "-0.0163460352255527⋅x⋅(x - 2)⋅(x - 1) - 0.0669872981077807⋅x⋅(x - 1) + 0.5⋅x\n",
      "Значение при X* = 1.5\n",
      "В полиноме\n",
      "0.705889289628747\n",
      "В функии\n",
      "0.707106781186548\n"
     ]
    }
   ],
   "source": [
    "f = sympy.sin(pi*x/6)\n",
    "vec_x = [0,1,2,3]\n",
    "x_ = 1.5\n",
    "\n",
    "P = build_nuthon_polynom(f,x,vec_x)\n",
    "print('Функция')\n",
    "sympy.pprint(f)\n",
    "print(f'Полином Ньютона')\n",
    "sympy.pprint(P)\n",
    "print(f'Значение при X* = {x_}')\n",
    "print('В полиноме')\n",
    "print(f'{P.subs(x,x_).evalf()}')\n",
    "print('В функии')\n",
    "print(f'{f.subs(x,x_).evalf()}')\n",
    "\n"
   ]
  }
 ],
 "metadata": {
  "kernelspec": {
   "display_name": "Python 3",
   "language": "python",
   "name": "python3"
  },
  "language_info": {
   "codemirror_mode": {
    "name": "ipython",
    "version": 3
   },
   "file_extension": ".py",
   "mimetype": "text/x-python",
   "name": "python",
   "nbconvert_exporter": "python",
   "pygments_lexer": "ipython3",
   "version": "3.7.3"
  }
 },
 "nbformat": 4,
 "nbformat_minor": 2
}
