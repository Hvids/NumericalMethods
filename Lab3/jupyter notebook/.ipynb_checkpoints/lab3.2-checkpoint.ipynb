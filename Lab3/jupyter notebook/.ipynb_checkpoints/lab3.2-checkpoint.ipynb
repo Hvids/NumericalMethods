{
 "cells": [
  {
   "cell_type": "code",
   "execution_count": 40,
   "metadata": {},
   "outputs": [],
   "source": [
    "import sys\n",
    "sys.path.append('../../Lab1/')\n",
    "sys.path.append('..')"
   ]
  },
  {
   "cell_type": "code",
   "execution_count": 2,
   "metadata": {},
   "outputs": [],
   "source": [
    "import sympy\n",
    "import numpy as np\n",
    "from sympy import pi\n",
    "from methodLUP import solve_LUP\n",
    "from cubic_splatsn import CubicSplatsn"
   ]
  },
  {
   "cell_type": "code",
   "execution_count": 3,
   "metadata": {},
   "outputs": [],
   "source": [
    "x_vec = [0,1,2,3,4]\n",
    "f_vec = [0,1.8415,2.9093,3.1411,3.2432]"
   ]
  },
  {
   "cell_type": "code",
   "execution_count": 38,
   "metadata": {},
   "outputs": [],
   "source": [
    "# class CubicSplatsn:\n",
    "#     def __init__(self,f_vec, x_vec):\n",
    "#         self.f_vec = f_vec\n",
    "#         self.x_vec = x_vec\n",
    "#         self.size = len(f_vec) - 1\n",
    "#         self.x = sympy.symbols('x')\n",
    "#         self.h_vec = [ x_vec[i+1] - x_vec[i] for i in range(self.size) ]\n",
    "#         self.__create_cubic_splatsn()\n",
    "    \n",
    "#     def calc_point(self,point):\n",
    "#         k = 0\n",
    "#         for i in range(len(f_cub_splays)): \n",
    "#             if x_vec[i]<= x_<= x_vec[i+1]:\n",
    "#                 k = i\n",
    "#         return self.cubic_splatsn[k].subs(self.x,point)\n",
    "            \n",
    "    \n",
    "#     def __create_cubic_splatsn(self):\n",
    "#         C, b = self.__create_Cb()\n",
    "#         c_vec = [0] + solve_LUP(C,b)\n",
    "#         a_vec = self.f_vec[:-1]\n",
    "#         b_vec  = [ (self.f_vec[i] - self.f_vec[i-1])/self.h_vec[i-1] -(self.h_vec[i-1]*(c_vec[i] + 2*c_vec[i-1]))/3 for i in range(1,self.size-1) ] + [ (self.f_vec[-1] - self.f_vec[-2])/self.h_vec[-1] - 2*(self.h_vec[-1]*c_vec[-1])/3 ]  \n",
    "#         d_vec = [ (c_vec[i+1]-c_vec[i])/(3*self.h_vec[i]) for i in range(self.size-1) ] + [-c_vec[-1]/(3*self.h_vec[-1])]\n",
    "        \n",
    "#         self.cubic_splatsn = [ a + b*(self.x-xi)+c*(self.x-xi)**2 + d*(self.x-xi)**3 for i,xi,a,b,c,d, in zip(range(self.size),self.x_vec[:-1],a_vec,b_vec,c_vec,d_vec) ]\n",
    "    \n",
    "\n",
    "        \n",
    "#     def __create_Cb(self):\n",
    "#         n = self.size\n",
    "#         h_vec = self.h_vec\n",
    "#         f_vec = self.f_vec\n",
    "#         C = [[2*(h_vec[0] +h_vec[1]), h_vec[1]] + [0]*(n-3)] \n",
    "#         b = [ 3*( (f_vec[2] - f_vec[1])/h_vec[1] - (f_vec[1] - f_vec[0])/h_vec[0] ) ]\n",
    "#         for i in range(1,n-2):\n",
    "#             row = [0]*(n-1)\n",
    "#             row[i-1] = h_vec[i-1]\n",
    "#             row[i] = 2*(h_vec[i-1] + h_vec[i])\n",
    "#             row[i+1] = h_vec[i]\n",
    "#             C.append(row)\n",
    "#             bI =  3*((f_vec[i+2] - f_vec[i+1])/h_vec[i+1]  - (f_vec[i+1] - f_vec[i])/h_vec[i+1])\n",
    "#             b.append( bI ) \n",
    "\n",
    "#         b.append( 3*( ( f_vec[-1] -f_vec[-2] )/h_vec[-1] - ( f_vec[-2] - f_vec[-3] )/h_vec[-2] ))\n",
    "\n",
    "#         row = [0]*(n-1)\n",
    "#         row[n-3] = h_vec[n-3]\n",
    "#         row[n-2] = 2*(h_vec[n-3]+h_vec[n-2])\n",
    "#         C.append(row)\n",
    "#         return C, b\n",
    "\n",
    "        "
   ]
  },
  {
   "cell_type": "code",
   "execution_count": 39,
   "metadata": {},
   "outputs": [
    {
     "data": {
      "text/plain": [
       "2.49696428500000"
      ]
     },
     "execution_count": 39,
     "metadata": {},
     "output_type": "execute_result"
    }
   ],
   "source": [
    "cub_sp = CubicSplatsn(f_vec,x_vec)\n",
    "cub_sp.calc_point(1.5)"
   ]
  }
 ],
 "metadata": {
  "kernelspec": {
   "display_name": "Python 3",
   "language": "python",
   "name": "python3"
  },
  "language_info": {
   "codemirror_mode": {
    "name": "ipython",
    "version": 3
   },
   "file_extension": ".py",
   "mimetype": "text/x-python",
   "name": "python",
   "nbconvert_exporter": "python",
   "pygments_lexer": "ipython3",
   "version": "3.7.3"
  }
 },
 "nbformat": 4,
 "nbformat_minor": 2
}
