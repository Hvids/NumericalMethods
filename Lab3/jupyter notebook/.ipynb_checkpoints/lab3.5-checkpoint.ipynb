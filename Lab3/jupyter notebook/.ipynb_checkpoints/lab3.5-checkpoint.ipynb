{
 "cells": [
  {
   "cell_type": "code",
   "execution_count": 1,
   "metadata": {},
   "outputs": [],
   "source": [
    "import sys\n",
    "sys.path.append('..')\n",
    "\n",
    "import sympy\n",
    "import numpy as np\n",
    "import pandas as pd\n",
    "\n",
    "from integrator import Integrator"
   ]
  },
  {
   "cell_type": "code",
   "execution_count": 2,
   "metadata": {},
   "outputs": [],
   "source": [
    "x = sympy.symbols('x')\n",
    "f = 1/((2*x+7)/(3*x+4))\n",
    "h_vec = 0.5, 0.25\n",
    "a,b = -1,1"
   ]
  },
  {
   "cell_type": "code",
   "execution_count": 3,
   "metadata": {},
   "outputs": [],
   "source": [
    "integrator = Integrator(f,x)\n",
    "F_rec = []\n",
    "F_trap =[]\n",
    "F_par = []\n",
    "for h in h_vec:\n",
    "    F_rec.append(integrator.integrate_rectagle(a,b,h))\n",
    "    F_trap.append(integrator.integrate_trap(a,b,h))\n",
    "    F_par.append(integrator.integrate_parab(a,b,h))\n",
    "Freal = sympy.integrate(f,(x,a,b)).evalf()"
   ]
  },
  {
   "cell_type": "code",
   "execution_count": 4,
   "metadata": {},
   "outputs": [
    {
     "name": "stdout",
     "output_type": "stream",
     "text": [
      "Нахождение значений интеграла\n"
     ]
    },
    {
     "data": {
      "text/html": [
       "<div>\n",
       "<style scoped>\n",
       "    .dataframe tbody tr th:only-of-type {\n",
       "        vertical-align: middle;\n",
       "    }\n",
       "\n",
       "    .dataframe tbody tr th {\n",
       "        vertical-align: top;\n",
       "    }\n",
       "\n",
       "    .dataframe thead th {\n",
       "        text-align: right;\n",
       "    }\n",
       "</style>\n",
       "<table border=\"1\" class=\"dataframe\">\n",
       "  <thead>\n",
       "    <tr style=\"text-align: right;\">\n",
       "      <th></th>\n",
       "      <th>Метод прямоугольников</th>\n",
       "      <th>Метод трапеции</th>\n",
       "      <th>Метод Симпсона</th>\n",
       "    </tr>\n",
       "  </thead>\n",
       "  <tbody>\n",
       "    <tr>\n",
       "      <th>0.50</th>\n",
       "      <td>1.09340463458111</td>\n",
       "      <td>1.08224206349206</td>\n",
       "      <td>1.08968377755142</td>\n",
       "    </tr>\n",
       "    <tr>\n",
       "      <th>0.25</th>\n",
       "      <td>1.09062742100997</td>\n",
       "      <td>1.08782334903658</td>\n",
       "      <td>1.08969273035218</td>\n",
       "    </tr>\n",
       "  </tbody>\n",
       "</table>\n",
       "</div>"
      ],
      "text/plain": [
       "     Метод прямоугольников    Метод трапеции    Метод Симпсона\n",
       "0.50      1.09340463458111  1.08224206349206  1.08968377755142\n",
       "0.25      1.09062742100997  1.08782334903658  1.08969273035218"
      ]
     },
     "execution_count": 4,
     "metadata": {},
     "output_type": "execute_result"
    }
   ],
   "source": [
    "print('Нахождение значений интеграла')\n",
    "data = pd.DataFrame({'Метод прямоугольников':F_rec,'Метод трапеции':F_trap,'Метод Симпсона':F_par},index =list(h_vec))\n",
    "data.head()\n"
   ]
  },
  {
   "cell_type": "code",
   "execution_count": 5,
   "metadata": {},
   "outputs": [
    {
     "name": "stdout",
     "output_type": "stream",
     "text": [
      "Точное занчение интеграла\n",
      "1.08969333906811\n",
      "Уточнение методом Рунге-Ромберга-Ричардсона\n"
     ]
    },
    {
     "data": {
      "text/html": [
       "<div>\n",
       "<style scoped>\n",
       "    .dataframe tbody tr th:only-of-type {\n",
       "        vertical-align: middle;\n",
       "    }\n",
       "\n",
       "    .dataframe tbody tr th {\n",
       "        vertical-align: top;\n",
       "    }\n",
       "\n",
       "    .dataframe thead th {\n",
       "        text-align: right;\n",
       "    }\n",
       "</style>\n",
       "<table border=\"1\" class=\"dataframe\">\n",
       "  <thead>\n",
       "    <tr style=\"text-align: right;\">\n",
       "      <th></th>\n",
       "      <th>Метод прямоугольников</th>\n",
       "      <th>Метод трапеции</th>\n",
       "      <th>Метод Симпсона</th>\n",
       "    </tr>\n",
       "  </thead>\n",
       "  <tbody>\n",
       "    <tr>\n",
       "      <th>Уточненное значение</th>\n",
       "      <td>1.08970168315293</td>\n",
       "      <td>1.08968377755142</td>\n",
       "      <td>1.08969332720556</td>\n",
       "    </tr>\n",
       "    <tr>\n",
       "      <th>Абсолютная погрешность</th>\n",
       "      <td>8.34408481398263e-6</td>\n",
       "      <td>9.56151668862759e-6</td>\n",
       "      <td>1.18625540501682e-8</td>\n",
       "    </tr>\n",
       "  </tbody>\n",
       "</table>\n",
       "</div>"
      ],
      "text/plain": [
       "                       Метод прямоугольников       Метод трапеции  \\\n",
       "Уточненное значение         1.08970168315293     1.08968377755142   \n",
       "Абсолютная погрешность   8.34408481398263e-6  9.56151668862759e-6   \n",
       "\n",
       "                             Метод Симпсона  \n",
       "Уточненное значение        1.08969332720556  \n",
       "Абсолютная погрешность  1.18625540501682e-8  "
      ]
     },
     "execution_count": 5,
     "metadata": {},
     "output_type": "execute_result"
    }
   ],
   "source": [
    "print(f'Точное занчение интеграла')\n",
    "print(Freal)\n",
    "print(f'Уточнение методом Рунге-Ромберга-Ричардсона')\n",
    "data = pd.DataFrame({'Метод прямоугольников':[],'Метод трапеции':[],'Метод Симпсона':[]},)\n",
    "data['Метод прямоугольников'] = integrator.clarify_runge(Freal,F_rec[0],F_rec[1],0.5,2)\n",
    "data['Метод трапеции'] = integrator.clarify_runge(Freal,F_trap[0],F_trap[1],0.5,2)\n",
    "data['Метод Симпсона'] = integrator.clarify_runge(Freal,F_par[0],F_par[1],0.5,4)\n",
    "data.index = ['Уточненное значение','Абсолютная погрешность']\n",
    "data"
   ]
  },
  {
   "cell_type": "code",
   "execution_count": null,
   "metadata": {},
   "outputs": [],
   "source": []
  }
 ],
 "metadata": {
  "kernelspec": {
   "display_name": "Python 3",
   "language": "python",
   "name": "python3"
  },
  "language_info": {
   "codemirror_mode": {
    "name": "ipython",
    "version": 3
   },
   "file_extension": ".py",
   "mimetype": "text/x-python",
   "name": "python",
   "nbconvert_exporter": "python",
   "pygments_lexer": "ipython3",
   "version": "3.7.3"
  }
 },
 "nbformat": 4,
 "nbformat_minor": 2
}
